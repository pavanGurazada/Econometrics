{
 "cells": [
  {
   "cell_type": "code",
   "execution_count": 60,
   "metadata": {},
   "outputs": [
    {
     "data": {
      "text/plain": [
       "false"
      ]
     },
     "execution_count": 60,
     "metadata": {},
     "output_type": "execute_result"
    }
   ],
   "source": [
    "using JuliaDB, OnlineStats, Plots, Distributions\n",
    "gr()\n",
    "\n",
    "IndexedTables.set_show_compact!(false)"
   ]
  },
  {
   "cell_type": "code",
   "execution_count": 2,
   "metadata": {},
   "outputs": [
    {
     "data": {
      "text/plain": [
       "(Mean(0.0), Variance(0.0))"
      ]
     },
     "execution_count": 2,
     "metadata": {},
     "output_type": "execute_result"
    }
   ],
   "source": [
    "m, v = Mean(), OnlineStats.Variance()"
   ]
  },
  {
   "cell_type": "code",
   "execution_count": 4,
   "metadata": {},
   "outputs": [
    {
     "data": {
      "text/plain": [
       "▦ Series{0}  |  EqualWeight  |  nobs = 0\n",
       "├── Mean(0.0)\n",
       "└── Variance(0.0)"
      ]
     },
     "execution_count": 4,
     "metadata": {},
     "output_type": "execute_result"
    }
   ],
   "source": [
    "s = Series(m, v)"
   ]
  },
  {
   "cell_type": "code",
   "execution_count": 5,
   "metadata": {},
   "outputs": [
    {
     "data": {
      "text/plain": [
       "▦ Series{0}  |  EqualWeight  |  nobs = 100\n",
       "├── Mean(-0.155518)\n",
       "└── Variance(1.04689)"
      ]
     },
     "execution_count": 5,
     "metadata": {},
     "output_type": "execute_result"
    }
   ],
   "source": [
    "fit!(s, randn(100))"
   ]
  },
  {
   "cell_type": "code",
   "execution_count": 6,
   "metadata": {},
   "outputs": [
    {
     "data": {
      "text/plain": [
       "▦ Series{0}  |  EqualWeight  |  nobs = 100\n",
       "├── Mean(-0.0136449)\n",
       "└── Variance(0.925289)"
      ]
     },
     "execution_count": 6,
     "metadata": {},
     "output_type": "execute_result"
    }
   ],
   "source": [
    "s2 = Series(randn(100), Mean(), Variance())"
   ]
  },
  {
   "cell_type": "code",
   "execution_count": 7,
   "metadata": {},
   "outputs": [
    {
     "data": {
      "text/plain": [
       "▦ Series{0}  |  EqualWeight  |  nobs = 200\n",
       "├── Mean(-0.0845814)\n",
       "└── Variance(0.98619)"
      ]
     },
     "execution_count": 7,
     "metadata": {},
     "output_type": "execute_result"
    }
   ],
   "source": [
    "merge!(s, s2)"
   ]
  },
  {
   "cell_type": "code",
   "execution_count": 12,
   "metadata": {},
   "outputs": [
    {
     "data": {
      "text/plain": [
       "Sum{Float64}(0.0)"
      ]
     },
     "execution_count": 12,
     "metadata": {},
     "output_type": "execute_result"
    }
   ],
   "source": [
    "o = IHistogram(100)\n",
    "o2 = Sum()"
   ]
  },
  {
   "cell_type": "code",
   "execution_count": 13,
   "metadata": {},
   "outputs": [
    {
     "data": {
      "text/plain": [
       "▦ Series{0}  |  EqualWeight  |  nobs = 0\n",
       "├── IHistogram([Inf, Inf, Inf, Inf, Inf, Inf, Inf, Inf, Inf, Inf, Inf, Inf, Inf, Inf, Inf, Inf, Inf, Inf, Inf, Inf, Inf, Inf, Inf, Inf, Inf, Inf, Inf, Inf, Inf, Inf, Inf, Inf, Inf, Inf, Inf, Inf, Inf, Inf, Inf, Inf, Inf, Inf, Inf, Inf, Inf, Inf, Inf, Inf, Inf, Inf, Inf, Inf, Inf, Inf, Inf, Inf, Inf, Inf, Inf, Inf, Inf, Inf, Inf, Inf, Inf, Inf, Inf, Inf, Inf, Inf, Inf, Inf, Inf, Inf, Inf, Inf, Inf, Inf, Inf, Inf, Inf, Inf, Inf, Inf, Inf, Inf, Inf, Inf, Inf, Inf, Inf, Inf, Inf, Inf, Inf, Inf, Inf, Inf, Inf, Inf])\n",
       "└── Sum{Float64}(0.0)"
      ]
     },
     "execution_count": 13,
     "metadata": {},
     "output_type": "execute_result"
    }
   ],
   "source": [
    "s = Series(o, o2)"
   ]
  },
  {
   "cell_type": "code",
   "execution_count": 14,
   "metadata": {},
   "outputs": [
    {
     "data": {
      "text/plain": [
       "100000-element Array{Float64,1}:\n",
       " 1.82263  \n",
       " 0.186101 \n",
       " 0.330578 \n",
       " 2.67864  \n",
       " 0.476492 \n",
       " 0.289544 \n",
       " 0.969828 \n",
       " 0.685172 \n",
       " 0.204111 \n",
       " 0.0206947\n",
       " 0.603228 \n",
       " 1.63955  \n",
       " 2.07397  \n",
       " ⋮        \n",
       " 1.09137  \n",
       " 0.66482  \n",
       " 2.12295  \n",
       " 0.299543 \n",
       " 0.759672 \n",
       " 0.261128 \n",
       " 0.762111 \n",
       " 0.689006 \n",
       " 0.392323 \n",
       " 0.533975 \n",
       " 1.99452  \n",
       " 0.99262  "
      ]
     },
     "execution_count": 14,
     "metadata": {},
     "output_type": "execute_result"
    }
   ],
   "source": [
    "y = randexp(10^5)"
   ]
  },
  {
   "cell_type": "code",
   "execution_count": 15,
   "metadata": {
    "collapsed": true
   },
   "outputs": [],
   "source": [
    "for yi in y\n",
    "    fit!(s, yi)\n",
    "end"
   ]
  },
  {
   "cell_type": "code",
   "execution_count": 16,
   "metadata": {},
   "outputs": [
    {
     "data": {
      "text/html": [
       "<?xml version=\"1.0\" encoding=\"utf-8\"?>\n",
       "<svg xmlns=\"http://www.w3.org/2000/svg\" xmlns:xlink=\"http://www.w3.org/1999/xlink\" width=\"600\" height=\"400\" viewBox=\"0 0 600 400\">\n",
       "<defs>\n",
       "  <clipPath id=\"clip3900\">\n",
       "    <rect x=\"0\" y=\"0\" width=\"600\" height=\"400\"/>\n",
       "  </clipPath>\n",
       "</defs>\n",
       "<polygon clip-path=\"url(#clip3900)\" points=\"\n",
       "0,400 600,400 600,0 0,0 \n",
       "  \" fill=\"#ffffff\" fill-opacity=\"1\"/>\n",
       "<defs>\n",
       "  <clipPath id=\"clip3901\">\n",
       "    <rect x=\"120\" y=\"0\" width=\"421\" height=\"400\"/>\n",
       "  </clipPath>\n",
       "</defs>\n",
       "<polygon clip-path=\"url(#clip3900)\" points=\"\n",
       "49.201,375.869 580.315,375.869 580.315,11.811 49.201,11.811 \n",
       "  \" fill=\"#ffffff\" fill-opacity=\"1\"/>\n",
       "<defs>\n",
       "  <clipPath id=\"clip3902\">\n",
       "    <rect x=\"49\" y=\"11\" width=\"532\" height=\"365\"/>\n",
       "  </clipPath>\n",
       "</defs>\n",
       "<polyline clip-path=\"url(#clip3902)\" style=\"stroke:#000000; stroke-width:0.5; stroke-opacity:0.1; fill:none\" points=\"\n",
       "  62.6983,375.869 62.6983,11.811 \n",
       "  \"/>\n",
       "<polyline clip-path=\"url(#clip3902)\" style=\"stroke:#000000; stroke-width:0.5; stroke-opacity:0.1; fill:none\" points=\"\n",
       "  176.523,375.869 176.523,11.811 \n",
       "  \"/>\n",
       "<polyline clip-path=\"url(#clip3902)\" style=\"stroke:#000000; stroke-width:0.5; stroke-opacity:0.1; fill:none\" points=\"\n",
       "  290.347,375.869 290.347,11.811 \n",
       "  \"/>\n",
       "<polyline clip-path=\"url(#clip3902)\" style=\"stroke:#000000; stroke-width:0.5; stroke-opacity:0.1; fill:none\" points=\"\n",
       "  404.172,375.869 404.172,11.811 \n",
       "  \"/>\n",
       "<polyline clip-path=\"url(#clip3902)\" style=\"stroke:#000000; stroke-width:0.5; stroke-opacity:0.1; fill:none\" points=\"\n",
       "  517.997,375.869 517.997,11.811 \n",
       "  \"/>\n",
       "<polyline clip-path=\"url(#clip3902)\" style=\"stroke:#000000; stroke-width:0.5; stroke-opacity:0.1; fill:none\" points=\"\n",
       "  49.201,375.869 580.315,375.869 \n",
       "  \"/>\n",
       "<polyline clip-path=\"url(#clip3902)\" style=\"stroke:#000000; stroke-width:0.5; stroke-opacity:0.1; fill:none\" points=\"\n",
       "  49.201,298.744 580.315,298.744 \n",
       "  \"/>\n",
       "<polyline clip-path=\"url(#clip3902)\" style=\"stroke:#000000; stroke-width:0.5; stroke-opacity:0.1; fill:none\" points=\"\n",
       "  49.201,221.62 580.315,221.62 \n",
       "  \"/>\n",
       "<polyline clip-path=\"url(#clip3902)\" style=\"stroke:#000000; stroke-width:0.5; stroke-opacity:0.1; fill:none\" points=\"\n",
       "  49.201,144.496 580.315,144.496 \n",
       "  \"/>\n",
       "<polyline clip-path=\"url(#clip3902)\" style=\"stroke:#000000; stroke-width:0.5; stroke-opacity:0.1; fill:none\" points=\"\n",
       "  49.201,67.3714 580.315,67.3714 \n",
       "  \"/>\n",
       "<polyline clip-path=\"url(#clip3900)\" style=\"stroke:#000000; stroke-width:1; stroke-opacity:1; fill:none\" points=\"\n",
       "  49.201,375.869 580.315,375.869 \n",
       "  \"/>\n",
       "<polyline clip-path=\"url(#clip3900)\" style=\"stroke:#000000; stroke-width:1; stroke-opacity:1; fill:none\" points=\"\n",
       "  49.201,375.869 49.201,11.811 \n",
       "  \"/>\n",
       "<polyline clip-path=\"url(#clip3900)\" style=\"stroke:#000000; stroke-width:1; stroke-opacity:1; fill:none\" points=\"\n",
       "  62.6983,375.869 62.6983,370.408 \n",
       "  \"/>\n",
       "<polyline clip-path=\"url(#clip3900)\" style=\"stroke:#000000; stroke-width:1; stroke-opacity:1; fill:none\" points=\"\n",
       "  176.523,375.869 176.523,370.408 \n",
       "  \"/>\n",
       "<polyline clip-path=\"url(#clip3900)\" style=\"stroke:#000000; stroke-width:1; stroke-opacity:1; fill:none\" points=\"\n",
       "  290.347,375.869 290.347,370.408 \n",
       "  \"/>\n",
       "<polyline clip-path=\"url(#clip3900)\" style=\"stroke:#000000; stroke-width:1; stroke-opacity:1; fill:none\" points=\"\n",
       "  404.172,375.869 404.172,370.408 \n",
       "  \"/>\n",
       "<polyline clip-path=\"url(#clip3900)\" style=\"stroke:#000000; stroke-width:1; stroke-opacity:1; fill:none\" points=\"\n",
       "  517.997,375.869 517.997,370.408 \n",
       "  \"/>\n",
       "<polyline clip-path=\"url(#clip3900)\" style=\"stroke:#000000; stroke-width:1; stroke-opacity:1; fill:none\" points=\"\n",
       "  49.201,375.869 57.1677,375.869 \n",
       "  \"/>\n",
       "<polyline clip-path=\"url(#clip3900)\" style=\"stroke:#000000; stroke-width:1; stroke-opacity:1; fill:none\" points=\"\n",
       "  49.201,298.744 57.1677,298.744 \n",
       "  \"/>\n",
       "<polyline clip-path=\"url(#clip3900)\" style=\"stroke:#000000; stroke-width:1; stroke-opacity:1; fill:none\" points=\"\n",
       "  49.201,221.62 57.1677,221.62 \n",
       "  \"/>\n",
       "<polyline clip-path=\"url(#clip3900)\" style=\"stroke:#000000; stroke-width:1; stroke-opacity:1; fill:none\" points=\"\n",
       "  49.201,144.496 57.1677,144.496 \n",
       "  \"/>\n",
       "<polyline clip-path=\"url(#clip3900)\" style=\"stroke:#000000; stroke-width:1; stroke-opacity:1; fill:none\" points=\"\n",
       "  49.201,67.3714 57.1677,67.3714 \n",
       "  \"/>\n",
       "<g clip-path=\"url(#clip3900)\">\n",
       "<text style=\"fill:#000000; fill-opacity:1; font-family:Arial,Helvetica Neue,Helvetica,sans-serif; font-size:12; text-anchor:middle;\" transform=\"rotate(0, 62.6983, 389.669)\" x=\"62.6983\" y=\"389.669\">0.0</text>\n",
       "</g>\n",
       "<g clip-path=\"url(#clip3900)\">\n",
       "<text style=\"fill:#000000; fill-opacity:1; font-family:Arial,Helvetica Neue,Helvetica,sans-serif; font-size:12; text-anchor:middle;\" transform=\"rotate(0, 176.523, 389.669)\" x=\"176.523\" y=\"389.669\">2.5</text>\n",
       "</g>\n",
       "<g clip-path=\"url(#clip3900)\">\n",
       "<text style=\"fill:#000000; fill-opacity:1; font-family:Arial,Helvetica Neue,Helvetica,sans-serif; font-size:12; text-anchor:middle;\" transform=\"rotate(0, 290.347, 389.669)\" x=\"290.347\" y=\"389.669\">5.0</text>\n",
       "</g>\n",
       "<g clip-path=\"url(#clip3900)\">\n",
       "<text style=\"fill:#000000; fill-opacity:1; font-family:Arial,Helvetica Neue,Helvetica,sans-serif; font-size:12; text-anchor:middle;\" transform=\"rotate(0, 404.172, 389.669)\" x=\"404.172\" y=\"389.669\">7.5</text>\n",
       "</g>\n",
       "<g clip-path=\"url(#clip3900)\">\n",
       "<text style=\"fill:#000000; fill-opacity:1; font-family:Arial,Helvetica Neue,Helvetica,sans-serif; font-size:12; text-anchor:middle;\" transform=\"rotate(0, 517.997, 389.669)\" x=\"517.997\" y=\"389.669\">10.0</text>\n",
       "</g>\n",
       "<g clip-path=\"url(#clip3900)\">\n",
       "<text style=\"fill:#000000; fill-opacity:1; font-family:Arial,Helvetica Neue,Helvetica,sans-serif; font-size:12; text-anchor:end;\" transform=\"rotate(0, 43.201, 380.369)\" x=\"43.201\" y=\"380.369\">0</text>\n",
       "</g>\n",
       "<g clip-path=\"url(#clip3900)\">\n",
       "<text style=\"fill:#000000; fill-opacity:1; font-family:Arial,Helvetica Neue,Helvetica,sans-serif; font-size:12; text-anchor:end;\" transform=\"rotate(0, 43.201, 303.244)\" x=\"43.201\" y=\"303.244\">2500</text>\n",
       "</g>\n",
       "<g clip-path=\"url(#clip3900)\">\n",
       "<text style=\"fill:#000000; fill-opacity:1; font-family:Arial,Helvetica Neue,Helvetica,sans-serif; font-size:12; text-anchor:end;\" transform=\"rotate(0, 43.201, 226.12)\" x=\"43.201\" y=\"226.12\">5000</text>\n",
       "</g>\n",
       "<g clip-path=\"url(#clip3900)\">\n",
       "<text style=\"fill:#000000; fill-opacity:1; font-family:Arial,Helvetica Neue,Helvetica,sans-serif; font-size:12; text-anchor:end;\" transform=\"rotate(0, 43.201, 148.996)\" x=\"43.201\" y=\"148.996\">7500</text>\n",
       "</g>\n",
       "<g clip-path=\"url(#clip3900)\">\n",
       "<text style=\"fill:#000000; fill-opacity:1; font-family:Arial,Helvetica Neue,Helvetica,sans-serif; font-size:12; text-anchor:end;\" transform=\"rotate(0, 43.201, 71.8714)\" x=\"43.201\" y=\"71.8714\">10000</text>\n",
       "</g>\n",
       "<polygon clip-path=\"url(#clip3902)\" points=\"\n",
       "64.2325,11.811 64.2325,375.869 66.6982,375.869 66.6982,11.811 64.2325,11.811 64.2325,11.811 \n",
       "  \" fill=\"#009af9\" fill-opacity=\"1\"/>\n",
       "<polyline clip-path=\"url(#clip3902)\" style=\"stroke:#000000; stroke-width:1; stroke-opacity:1; fill:none\" points=\"\n",
       "  64.2325,11.811 64.2325,375.869 66.6982,375.869 66.6982,11.811 64.2325,11.811 \n",
       "  \"/>\n",
       "<polygon clip-path=\"url(#clip3902)\" points=\"\n",
       "68.7439,180.436 68.7439,375.869 71.2096,375.869 71.2096,180.436 68.7439,180.436 68.7439,180.436 \n",
       "  \" fill=\"#009af9\" fill-opacity=\"1\"/>\n",
       "<polyline clip-path=\"url(#clip3902)\" style=\"stroke:#000000; stroke-width:1; stroke-opacity:1; fill:none\" points=\"\n",
       "  68.7439,180.436 68.7439,375.869 71.2096,375.869 71.2096,180.436 68.7439,180.436 \n",
       "  \"/>\n",
       "<polygon clip-path=\"url(#clip3902)\" points=\"\n",
       "72.1045,198.452 72.1045,375.869 74.5703,375.869 74.5703,198.452 72.1045,198.452 72.1045,198.452 \n",
       "  \" fill=\"#009af9\" fill-opacity=\"1\"/>\n",
       "<polyline clip-path=\"url(#clip3902)\" style=\"stroke:#000000; stroke-width:1; stroke-opacity:1; fill:none\" points=\"\n",
       "  72.1045,198.452 72.1045,375.869 74.5703,375.869 74.5703,198.452 72.1045,198.452 \n",
       "  \"/>\n",
       "<polygon clip-path=\"url(#clip3902)\" points=\"\n",
       "75.5634,200.179 75.5634,375.869 78.0292,375.869 78.0292,200.179 75.5634,200.179 75.5634,200.179 \n",
       "  \" fill=\"#009af9\" fill-opacity=\"1\"/>\n",
       "<polyline clip-path=\"url(#clip3902)\" style=\"stroke:#000000; stroke-width:1; stroke-opacity:1; fill:none\" points=\"\n",
       "  75.5634,200.179 75.5634,375.869 78.0292,375.869 78.0292,200.179 75.5634,200.179 \n",
       "  \"/>\n",
       "<polygon clip-path=\"url(#clip3902)\" points=\"\n",
       "79.4746,179.942 79.4746,375.869 81.9404,375.869 81.9404,179.942 79.4746,179.942 79.4746,179.942 \n",
       "  \" fill=\"#009af9\" fill-opacity=\"1\"/>\n",
       "<polyline clip-path=\"url(#clip3902)\" style=\"stroke:#000000; stroke-width:1; stroke-opacity:1; fill:none\" points=\"\n",
       "  79.4746,179.942 79.4746,375.869 81.9404,375.869 81.9404,179.942 79.4746,179.942 \n",
       "  \"/>\n",
       "<polygon clip-path=\"url(#clip3902)\" points=\"\n",
       "84.1667,170.625 84.1667,375.869 86.6325,375.869 86.6325,170.625 84.1667,170.625 84.1667,170.625 \n",
       "  \" fill=\"#009af9\" fill-opacity=\"1\"/>\n",
       "<polyline clip-path=\"url(#clip3902)\" style=\"stroke:#000000; stroke-width:1; stroke-opacity:1; fill:none\" points=\"\n",
       "  84.1667,170.625 84.1667,375.869 86.6325,375.869 86.6325,170.625 84.1667,170.625 \n",
       "  \"/>\n",
       "<polygon clip-path=\"url(#clip3902)\" points=\"\n",
       "88.9712,207.244 88.9712,375.869 91.4369,375.869 91.4369,207.244 88.9712,207.244 88.9712,207.244 \n",
       "  \" fill=\"#009af9\" fill-opacity=\"1\"/>\n",
       "<polyline clip-path=\"url(#clip3902)\" style=\"stroke:#000000; stroke-width:1; stroke-opacity:1; fill:none\" points=\"\n",
       "  88.9712,207.244 88.9712,375.869 91.4369,375.869 91.4369,207.244 88.9712,207.244 \n",
       "  \"/>\n",
       "<polygon clip-path=\"url(#clip3902)\" points=\"\n",
       "93.0102,257.653 93.0102,375.869 95.476,375.869 95.476,257.653 93.0102,257.653 93.0102,257.653 \n",
       "  \" fill=\"#009af9\" fill-opacity=\"1\"/>\n",
       "<polyline clip-path=\"url(#clip3902)\" style=\"stroke:#000000; stroke-width:1; stroke-opacity:1; fill:none\" points=\"\n",
       "  93.0102,257.653 93.0102,375.869 95.476,375.869 95.476,257.653 93.0102,257.653 \n",
       "  \"/>\n",
       "<polygon clip-path=\"url(#clip3902)\" points=\"\n",
       "96.4614,265.982 96.4614,375.869 98.9271,375.869 98.9271,265.982 96.4614,265.982 96.4614,265.982 \n",
       "  \" fill=\"#009af9\" fill-opacity=\"1\"/>\n",
       "<polyline clip-path=\"url(#clip3902)\" style=\"stroke:#000000; stroke-width:1; stroke-opacity:1; fill:none\" points=\"\n",
       "  96.4614,265.982 96.4614,375.869 98.9271,375.869 98.9271,265.982 96.4614,265.982 \n",
       "  \"/>\n",
       "<polygon clip-path=\"url(#clip3902)\" points=\"\n",
       "99.8643,276.872 99.8643,375.869 102.33,375.869 102.33,276.872 99.8643,276.872 99.8643,276.872 \n",
       "  \" fill=\"#009af9\" fill-opacity=\"1\"/>\n",
       "<polyline clip-path=\"url(#clip3902)\" style=\"stroke:#000000; stroke-width:1; stroke-opacity:1; fill:none\" points=\"\n",
       "  99.8643,276.872 99.8643,375.869 102.33,375.869 102.33,276.872 99.8643,276.872 \n",
       "  \"/>\n",
       "<polygon clip-path=\"url(#clip3902)\" points=\"\n",
       "103.139,288.78 103.139,375.869 105.604,375.869 105.604,288.78 103.139,288.78 103.139,288.78 \n",
       "  \" fill=\"#009af9\" fill-opacity=\"1\"/>\n",
       "<polyline clip-path=\"url(#clip3902)\" style=\"stroke:#000000; stroke-width:1; stroke-opacity:1; fill:none\" points=\"\n",
       "  103.139,288.78 103.139,375.869 105.604,375.869 105.604,288.78 103.139,288.78 \n",
       "  \"/>\n",
       "<polygon clip-path=\"url(#clip3902)\" points=\"\n",
       "106.593,283.042 106.593,375.869 109.059,375.869 109.059,283.042 106.593,283.042 106.593,283.042 \n",
       "  \" fill=\"#009af9\" fill-opacity=\"1\"/>\n",
       "<polyline clip-path=\"url(#clip3902)\" style=\"stroke:#000000; stroke-width:1; stroke-opacity:1; fill:none\" points=\"\n",
       "  106.593,283.042 106.593,375.869 109.059,375.869 109.059,283.042 106.593,283.042 \n",
       "  \"/>\n",
       "<polygon clip-path=\"url(#clip3902)\" points=\"\n",
       "110.337,288.502 110.337,375.869 112.802,375.869 112.802,288.502 110.337,288.502 110.337,288.502 \n",
       "  \" fill=\"#009af9\" fill-opacity=\"1\"/>\n",
       "<polyline clip-path=\"url(#clip3902)\" style=\"stroke:#000000; stroke-width:1; stroke-opacity:1; fill:none\" points=\"\n",
       "  110.337,288.502 110.337,375.869 112.802,375.869 112.802,288.502 110.337,288.502 \n",
       "  \"/>\n",
       "<polygon clip-path=\"url(#clip3902)\" points=\"\n",
       "114.264,289.027 114.264,375.869 116.729,375.869 116.729,289.027 114.264,289.027 114.264,289.027 \n",
       "  \" fill=\"#009af9\" fill-opacity=\"1\"/>\n",
       "<polyline clip-path=\"url(#clip3902)\" style=\"stroke:#000000; stroke-width:1; stroke-opacity:1; fill:none\" points=\"\n",
       "  114.264,289.027 114.264,375.869 116.729,375.869 116.729,289.027 114.264,289.027 \n",
       "  \"/>\n",
       "<polygon clip-path=\"url(#clip3902)\" points=\"\n",
       "118.37,298.282 118.37,375.869 120.836,375.869 120.836,298.282 118.37,298.282 118.37,298.282 \n",
       "  \" fill=\"#009af9\" fill-opacity=\"1\"/>\n",
       "<polyline clip-path=\"url(#clip3902)\" style=\"stroke:#000000; stroke-width:1; stroke-opacity:1; fill:none\" points=\"\n",
       "  118.37,298.282 118.37,375.869 120.836,375.869 120.836,298.282 118.37,298.282 \n",
       "  \"/>\n",
       "<polygon clip-path=\"url(#clip3902)\" points=\"\n",
       "121.994,316.853 121.994,375.869 124.46,375.869 124.46,316.853 121.994,316.853 121.994,316.853 \n",
       "  \" fill=\"#009af9\" fill-opacity=\"1\"/>\n",
       "<polyline clip-path=\"url(#clip3902)\" style=\"stroke:#000000; stroke-width:1; stroke-opacity:1; fill:none\" points=\"\n",
       "  121.994,316.853 121.994,375.869 124.46,375.869 124.46,316.853 121.994,316.853 \n",
       "  \"/>\n",
       "<polygon clip-path=\"url(#clip3902)\" points=\"\n",
       "125.292,326.509 125.292,375.869 127.757,375.869 127.757,326.509 125.292,326.509 125.292,326.509 \n",
       "  \" fill=\"#009af9\" fill-opacity=\"1\"/>\n",
       "<polyline clip-path=\"url(#clip3902)\" style=\"stroke:#000000; stroke-width:1; stroke-opacity:1; fill:none\" points=\"\n",
       "  125.292,326.509 125.292,375.869 127.757,375.869 127.757,326.509 125.292,326.509 \n",
       "  \"/>\n",
       "<polygon clip-path=\"url(#clip3902)\" points=\"\n",
       "128.374,326.447 128.374,375.869 130.84,375.869 130.84,326.447 128.374,326.447 128.374,326.447 \n",
       "  \" fill=\"#009af9\" fill-opacity=\"1\"/>\n",
       "<polyline clip-path=\"url(#clip3902)\" style=\"stroke:#000000; stroke-width:1; stroke-opacity:1; fill:none\" points=\"\n",
       "  128.374,326.447 128.374,375.869 130.84,375.869 130.84,326.447 128.374,326.447 \n",
       "  \"/>\n",
       "<polygon clip-path=\"url(#clip3902)\" points=\"\n",
       "131.716,324.936 131.716,375.869 134.181,375.869 134.181,324.936 131.716,324.936 131.716,324.936 \n",
       "  \" fill=\"#009af9\" fill-opacity=\"1\"/>\n",
       "<polyline clip-path=\"url(#clip3902)\" style=\"stroke:#000000; stroke-width:1; stroke-opacity:1; fill:none\" points=\"\n",
       "  131.716,324.936 131.716,375.869 134.181,375.869 134.181,324.936 131.716,324.936 \n",
       "  \"/>\n",
       "<polygon clip-path=\"url(#clip3902)\" points=\"\n",
       "135.62,320.308 135.62,375.869 138.085,375.869 138.085,320.308 135.62,320.308 135.62,320.308 \n",
       "  \" fill=\"#009af9\" fill-opacity=\"1\"/>\n",
       "<polyline clip-path=\"url(#clip3902)\" style=\"stroke:#000000; stroke-width:1; stroke-opacity:1; fill:none\" points=\"\n",
       "  135.62,320.308 135.62,375.869 138.085,375.869 138.085,320.308 135.62,320.308 \n",
       "  \"/>\n",
       "<polygon clip-path=\"url(#clip3902)\" points=\"\n",
       "139.298,332.802 139.298,375.869 141.764,375.869 141.764,332.802 139.298,332.802 139.298,332.802 \n",
       "  \" fill=\"#009af9\" fill-opacity=\"1\"/>\n",
       "<polyline clip-path=\"url(#clip3902)\" style=\"stroke:#000000; stroke-width:1; stroke-opacity:1; fill:none\" points=\"\n",
       "  139.298,332.802 139.298,375.869 141.764,375.869 141.764,332.802 139.298,332.802 \n",
       "  \"/>\n",
       "<polygon clip-path=\"url(#clip3902)\" points=\"\n",
       "142.509,340.33 142.509,375.869 144.975,375.869 144.975,340.33 142.509,340.33 142.509,340.33 \n",
       "  \" fill=\"#009af9\" fill-opacity=\"1\"/>\n",
       "<polyline clip-path=\"url(#clip3902)\" style=\"stroke:#000000; stroke-width:1; stroke-opacity:1; fill:none\" points=\"\n",
       "  142.509,340.33 142.509,375.869 144.975,375.869 144.975,340.33 142.509,340.33 \n",
       "  \"/>\n",
       "<polygon clip-path=\"url(#clip3902)\" points=\"\n",
       "145.676,342.705 145.676,375.869 148.142,375.869 148.142,342.705 145.676,342.705 145.676,342.705 \n",
       "  \" fill=\"#009af9\" fill-opacity=\"1\"/>\n",
       "<polyline clip-path=\"url(#clip3902)\" style=\"stroke:#000000; stroke-width:1; stroke-opacity:1; fill:none\" points=\"\n",
       "  145.676,342.705 145.676,375.869 148.142,375.869 148.142,342.705 145.676,342.705 \n",
       "  \"/>\n",
       "<polygon clip-path=\"url(#clip3902)\" points=\"\n",
       "149.102,340.268 149.102,375.869 151.568,375.869 151.568,340.268 149.102,340.268 149.102,340.268 \n",
       "  \" fill=\"#009af9\" fill-opacity=\"1\"/>\n",
       "<polyline clip-path=\"url(#clip3902)\" style=\"stroke:#000000; stroke-width:1; stroke-opacity:1; fill:none\" points=\"\n",
       "  149.102,340.268 149.102,375.869 151.568,375.869 151.568,340.268 149.102,340.268 \n",
       "  \"/>\n",
       "<polygon clip-path=\"url(#clip3902)\" points=\"\n",
       "152.877,339.99 152.877,375.869 155.342,375.869 155.342,339.99 152.877,339.99 152.877,339.99 \n",
       "  \" fill=\"#009af9\" fill-opacity=\"1\"/>\n",
       "<polyline clip-path=\"url(#clip3902)\" style=\"stroke:#000000; stroke-width:1; stroke-opacity:1; fill:none\" points=\"\n",
       "  152.877,339.99 152.877,375.869 155.342,375.869 155.342,339.99 152.877,339.99 \n",
       "  \"/>\n",
       "<polygon clip-path=\"url(#clip3902)\" points=\"\n",
       "156.905,341.996 156.905,375.869 159.37,375.869 159.37,341.996 156.905,341.996 156.905,341.996 \n",
       "  \" fill=\"#009af9\" fill-opacity=\"1\"/>\n",
       "<polyline clip-path=\"url(#clip3902)\" style=\"stroke:#000000; stroke-width:1; stroke-opacity:1; fill:none\" points=\"\n",
       "  156.905,341.996 156.905,375.869 159.37,375.869 159.37,341.996 156.905,341.996 \n",
       "  \"/>\n",
       "<polygon clip-path=\"url(#clip3902)\" points=\"\n",
       "160.718,347.826 160.718,375.869 163.184,375.869 163.184,347.826 160.718,347.826 160.718,347.826 \n",
       "  \" fill=\"#009af9\" fill-opacity=\"1\"/>\n",
       "<polyline clip-path=\"url(#clip3902)\" style=\"stroke:#000000; stroke-width:1; stroke-opacity:1; fill:none\" points=\"\n",
       "  160.718,347.826 160.718,375.869 163.184,375.869 163.184,347.826 160.718,347.826 \n",
       "  \"/>\n",
       "<polygon clip-path=\"url(#clip3902)\" points=\"\n",
       "165.126,339.466 165.126,375.869 167.591,375.869 167.591,339.466 165.126,339.466 165.126,339.466 \n",
       "  \" fill=\"#009af9\" fill-opacity=\"1\"/>\n",
       "<polyline clip-path=\"url(#clip3902)\" style=\"stroke:#000000; stroke-width:1; stroke-opacity:1; fill:none\" points=\"\n",
       "  165.126,339.466 165.126,375.869 167.591,375.869 167.591,339.466 165.126,339.466 \n",
       "  \"/>\n",
       "<polygon clip-path=\"url(#clip3902)\" points=\"\n",
       "169.595,352.577 169.595,375.869 172.061,375.869 172.061,352.577 169.595,352.577 169.595,352.577 \n",
       "  \" fill=\"#009af9\" fill-opacity=\"1\"/>\n",
       "<polyline clip-path=\"url(#clip3902)\" style=\"stroke:#000000; stroke-width:1; stroke-opacity:1; fill:none\" points=\"\n",
       "  169.595,352.577 169.595,375.869 172.061,375.869 172.061,352.577 169.595,352.577 \n",
       "  \"/>\n",
       "<polygon clip-path=\"url(#clip3902)\" points=\"\n",
       "174.04,347.302 174.04,375.869 176.506,375.869 176.506,347.302 174.04,347.302 174.04,347.302 \n",
       "  \" fill=\"#009af9\" fill-opacity=\"1\"/>\n",
       "<polyline clip-path=\"url(#clip3902)\" style=\"stroke:#000000; stroke-width:1; stroke-opacity:1; fill:none\" points=\"\n",
       "  174.04,347.302 174.04,375.869 176.506,375.869 176.506,347.302 174.04,347.302 \n",
       "  \"/>\n",
       "<polygon clip-path=\"url(#clip3902)\" points=\"\n",
       "178.27,357.328 178.27,375.869 180.736,375.869 180.736,357.328 178.27,357.328 178.27,357.328 \n",
       "  \" fill=\"#009af9\" fill-opacity=\"1\"/>\n",
       "<polyline clip-path=\"url(#clip3902)\" style=\"stroke:#000000; stroke-width:1; stroke-opacity:1; fill:none\" points=\"\n",
       "  178.27,357.328 178.27,375.869 180.736,375.869 180.736,357.328 178.27,357.328 \n",
       "  \"/>\n",
       "<polygon clip-path=\"url(#clip3902)\" points=\"\n",
       "181.921,358.192 181.921,375.869 184.387,375.869 184.387,358.192 181.921,358.192 181.921,358.192 \n",
       "  \" fill=\"#009af9\" fill-opacity=\"1\"/>\n",
       "<polyline clip-path=\"url(#clip3902)\" style=\"stroke:#000000; stroke-width:1; stroke-opacity:1; fill:none\" points=\"\n",
       "  181.921,358.192 181.921,375.869 184.387,375.869 184.387,358.192 181.921,358.192 \n",
       "  \"/>\n",
       "<polygon clip-path=\"url(#clip3902)\" points=\"\n",
       "185.538,361.061 185.538,375.869 188.003,375.869 188.003,361.061 185.538,361.061 185.538,361.061 \n",
       "  \" fill=\"#009af9\" fill-opacity=\"1\"/>\n",
       "<polyline clip-path=\"url(#clip3902)\" style=\"stroke:#000000; stroke-width:1; stroke-opacity:1; fill:none\" points=\"\n",
       "  185.538,361.061 185.538,375.869 188.003,375.869 188.003,361.061 185.538,361.061 \n",
       "  \"/>\n",
       "<polygon clip-path=\"url(#clip3902)\" points=\"\n",
       "188.9,362.449 188.9,375.869 191.366,375.869 191.366,362.449 188.9,362.449 188.9,362.449 \n",
       "  \" fill=\"#009af9\" fill-opacity=\"1\"/>\n",
       "<polyline clip-path=\"url(#clip3902)\" style=\"stroke:#000000; stroke-width:1; stroke-opacity:1; fill:none\" points=\"\n",
       "  188.9,362.449 188.9,375.869 191.366,375.869 191.366,362.449 188.9,362.449 \n",
       "  \"/>\n",
       "<polygon clip-path=\"url(#clip3902)\" points=\"\n",
       "192.326,363.035 192.326,375.869 194.792,375.869 194.792,363.035 192.326,363.035 192.326,363.035 \n",
       "  \" fill=\"#009af9\" fill-opacity=\"1\"/>\n",
       "<polyline clip-path=\"url(#clip3902)\" style=\"stroke:#000000; stroke-width:1; stroke-opacity:1; fill:none\" points=\"\n",
       "  192.326,363.035 192.326,375.869 194.792,375.869 194.792,363.035 192.326,363.035 \n",
       "  \"/>\n",
       "<polygon clip-path=\"url(#clip3902)\" points=\"\n",
       "195.935,363.035 195.935,375.869 198.401,375.869 198.401,363.035 195.935,363.035 195.935,363.035 \n",
       "  \" fill=\"#009af9\" fill-opacity=\"1\"/>\n",
       "<polyline clip-path=\"url(#clip3902)\" style=\"stroke:#000000; stroke-width:1; stroke-opacity:1; fill:none\" points=\"\n",
       "  195.935,363.035 195.935,375.869 198.401,375.869 198.401,363.035 195.935,363.035 \n",
       "  \"/>\n",
       "<polygon clip-path=\"url(#clip3902)\" points=\"\n",
       "200.186,358.685 200.186,375.869 202.652,375.869 202.652,358.685 200.186,358.685 200.186,358.685 \n",
       "  \" fill=\"#009af9\" fill-opacity=\"1\"/>\n",
       "<polyline clip-path=\"url(#clip3902)\" style=\"stroke:#000000; stroke-width:1; stroke-opacity:1; fill:none\" points=\"\n",
       "  200.186,358.685 200.186,375.869 202.652,375.869 202.652,358.685 200.186,358.685 \n",
       "  \"/>\n",
       "<polygon clip-path=\"url(#clip3902)\" points=\"\n",
       "204.548,364.547 204.548,375.869 207.014,375.869 207.014,364.547 204.548,364.547 204.548,364.547 \n",
       "  \" fill=\"#009af9\" fill-opacity=\"1\"/>\n",
       "<polyline clip-path=\"url(#clip3902)\" style=\"stroke:#000000; stroke-width:1; stroke-opacity:1; fill:none\" points=\"\n",
       "  204.548,364.547 204.548,375.869 207.014,375.869 207.014,364.547 204.548,364.547 \n",
       "  \"/>\n",
       "<polygon clip-path=\"url(#clip3902)\" points=\"\n",
       "208.113,366.583 208.113,375.869 210.579,375.869 210.579,366.583 208.113,366.583 208.113,366.583 \n",
       "  \" fill=\"#009af9\" fill-opacity=\"1\"/>\n",
       "<polyline clip-path=\"url(#clip3902)\" style=\"stroke:#000000; stroke-width:1; stroke-opacity:1; fill:none\" points=\"\n",
       "  208.113,366.583 208.113,375.869 210.579,375.869 210.579,366.583 208.113,366.583 \n",
       "  \"/>\n",
       "<polygon clip-path=\"url(#clip3902)\" points=\"\n",
       "211.337,367.909 211.337,375.869 213.803,375.869 213.803,367.909 211.337,367.909 211.337,367.909 \n",
       "  \" fill=\"#009af9\" fill-opacity=\"1\"/>\n",
       "<polyline clip-path=\"url(#clip3902)\" style=\"stroke:#000000; stroke-width:1; stroke-opacity:1; fill:none\" points=\"\n",
       "  211.337,367.909 211.337,375.869 213.803,375.869 213.803,367.909 211.337,367.909 \n",
       "  \"/>\n",
       "<polygon clip-path=\"url(#clip3902)\" points=\"\n",
       "214.703,367.601 214.703,375.869 217.169,375.869 217.169,367.601 214.703,367.601 214.703,367.601 \n",
       "  \" fill=\"#009af9\" fill-opacity=\"1\"/>\n",
       "<polyline clip-path=\"url(#clip3902)\" style=\"stroke:#000000; stroke-width:1; stroke-opacity:1; fill:none\" points=\"\n",
       "  214.703,367.601 214.703,375.869 217.169,375.869 217.169,367.601 214.703,367.601 \n",
       "  \"/>\n",
       "<polygon clip-path=\"url(#clip3902)\" points=\"\n",
       "218.312,369.205 218.312,375.869 220.778,375.869 220.778,369.205 218.312,369.205 218.312,369.205 \n",
       "  \" fill=\"#009af9\" fill-opacity=\"1\"/>\n",
       "<polyline clip-path=\"url(#clip3902)\" style=\"stroke:#000000; stroke-width:1; stroke-opacity:1; fill:none\" points=\"\n",
       "  218.312,369.205 218.312,375.869 220.778,375.869 220.778,369.205 218.312,369.205 \n",
       "  \"/>\n",
       "<polygon clip-path=\"url(#clip3902)\" points=\"\n",
       "221.648,368.958 221.648,375.869 224.113,375.869 224.113,368.958 221.648,368.958 221.648,368.958 \n",
       "  \" fill=\"#009af9\" fill-opacity=\"1\"/>\n",
       "<polyline clip-path=\"url(#clip3902)\" style=\"stroke:#000000; stroke-width:1; stroke-opacity:1; fill:none\" points=\"\n",
       "  221.648,368.958 221.648,375.869 224.113,375.869 224.113,368.958 221.648,368.958 \n",
       "  \"/>\n",
       "<polygon clip-path=\"url(#clip3902)\" points=\"\n",
       "224.987,369.514 224.987,375.869 227.453,375.869 227.453,369.514 224.987,369.514 224.987,369.514 \n",
       "  \" fill=\"#009af9\" fill-opacity=\"1\"/>\n",
       "<polyline clip-path=\"url(#clip3902)\" style=\"stroke:#000000; stroke-width:1; stroke-opacity:1; fill:none\" points=\"\n",
       "  224.987,369.514 224.987,375.869 227.453,375.869 227.453,369.514 224.987,369.514 \n",
       "  \"/>\n",
       "<polygon clip-path=\"url(#clip3902)\" points=\"\n",
       "228.668,369.73 228.668,375.869 231.133,375.869 231.133,369.73 228.668,369.73 228.668,369.73 \n",
       "  \" fill=\"#009af9\" fill-opacity=\"1\"/>\n",
       "<polyline clip-path=\"url(#clip3902)\" style=\"stroke:#000000; stroke-width:1; stroke-opacity:1; fill:none\" points=\"\n",
       "  228.668,369.73 228.668,375.869 231.133,375.869 231.133,369.73 228.668,369.73 \n",
       "  \"/>\n",
       "<polygon clip-path=\"url(#clip3902)\" points=\"\n",
       "233.384,366.244 233.384,375.869 235.849,375.869 235.849,366.244 233.384,366.244 233.384,366.244 \n",
       "  \" fill=\"#009af9\" fill-opacity=\"1\"/>\n",
       "<polyline clip-path=\"url(#clip3902)\" style=\"stroke:#000000; stroke-width:1; stroke-opacity:1; fill:none\" points=\"\n",
       "  233.384,366.244 233.384,375.869 235.849,375.869 235.849,366.244 233.384,366.244 \n",
       "  \"/>\n",
       "<polygon clip-path=\"url(#clip3902)\" points=\"\n",
       "238.197,371.766 238.197,375.869 240.662,375.869 240.662,371.766 238.197,371.766 238.197,371.766 \n",
       "  \" fill=\"#009af9\" fill-opacity=\"1\"/>\n",
       "<polyline clip-path=\"url(#clip3902)\" style=\"stroke:#000000; stroke-width:1; stroke-opacity:1; fill:none\" points=\"\n",
       "  238.197,371.766 238.197,375.869 240.662,375.869 240.662,371.766 238.197,371.766 \n",
       "  \"/>\n",
       "<polygon clip-path=\"url(#clip3902)\" points=\"\n",
       "241.589,370.501 241.589,375.869 244.055,375.869 244.055,370.501 241.589,370.501 241.589,370.501 \n",
       "  \" fill=\"#009af9\" fill-opacity=\"1\"/>\n",
       "<polyline clip-path=\"url(#clip3902)\" style=\"stroke:#000000; stroke-width:1; stroke-opacity:1; fill:none\" points=\"\n",
       "  241.589,370.501 241.589,375.869 244.055,375.869 244.055,370.501 241.589,370.501 \n",
       "  \"/>\n",
       "<polygon clip-path=\"url(#clip3902)\" points=\"\n",
       "245.715,370.902 245.715,375.869 248.181,375.869 248.181,370.902 245.715,370.902 245.715,370.902 \n",
       "  \" fill=\"#009af9\" fill-opacity=\"1\"/>\n",
       "<polyline clip-path=\"url(#clip3902)\" style=\"stroke:#000000; stroke-width:1; stroke-opacity:1; fill:none\" points=\"\n",
       "  245.715,370.902 245.715,375.869 248.181,375.869 248.181,370.902 245.715,370.902 \n",
       "  \"/>\n",
       "<polygon clip-path=\"url(#clip3902)\" points=\"\n",
       "249.255,372.414 249.255,375.869 251.721,375.869 251.721,372.414 249.255,372.414 249.255,372.414 \n",
       "  \" fill=\"#009af9\" fill-opacity=\"1\"/>\n",
       "<polyline clip-path=\"url(#clip3902)\" style=\"stroke:#000000; stroke-width:1; stroke-opacity:1; fill:none\" points=\"\n",
       "  249.255,372.414 249.255,375.869 251.721,375.869 251.721,372.414 249.255,372.414 \n",
       "  \"/>\n",
       "<polygon clip-path=\"url(#clip3902)\" points=\"\n",
       "252.465,372.167 252.465,375.869 254.931,375.869 254.931,372.167 252.465,372.167 252.465,372.167 \n",
       "  \" fill=\"#009af9\" fill-opacity=\"1\"/>\n",
       "<polyline clip-path=\"url(#clip3902)\" style=\"stroke:#000000; stroke-width:1; stroke-opacity:1; fill:none\" points=\"\n",
       "  252.465,372.167 252.465,375.869 254.931,375.869 254.931,372.167 252.465,372.167 \n",
       "  \"/>\n",
       "<polygon clip-path=\"url(#clip3902)\" points=\"\n",
       "256.102,372.568 256.102,375.869 258.568,375.869 258.568,372.568 256.102,372.568 256.102,372.568 \n",
       "  \" fill=\"#009af9\" fill-opacity=\"1\"/>\n",
       "<polyline clip-path=\"url(#clip3902)\" style=\"stroke:#000000; stroke-width:1; stroke-opacity:1; fill:none\" points=\"\n",
       "  256.102,372.568 256.102,375.869 258.568,375.869 258.568,372.568 256.102,372.568 \n",
       "  \"/>\n",
       "<polygon clip-path=\"url(#clip3902)\" points=\"\n",
       "259.775,372.876 259.775,375.869 262.241,375.869 262.241,372.876 259.775,372.876 259.775,372.876 \n",
       "  \" fill=\"#009af9\" fill-opacity=\"1\"/>\n",
       "<polyline clip-path=\"url(#clip3902)\" style=\"stroke:#000000; stroke-width:1; stroke-opacity:1; fill:none\" points=\"\n",
       "  259.775,372.876 259.775,375.869 262.241,375.869 262.241,372.876 259.775,372.876 \n",
       "  \"/>\n",
       "<polygon clip-path=\"url(#clip3902)\" points=\"\n",
       "263.552,372.907 263.552,375.869 266.018,375.869 266.018,372.907 263.552,372.907 263.552,372.907 \n",
       "  \" fill=\"#009af9\" fill-opacity=\"1\"/>\n",
       "<polyline clip-path=\"url(#clip3902)\" style=\"stroke:#000000; stroke-width:1; stroke-opacity:1; fill:none\" points=\"\n",
       "  263.552,372.907 263.552,375.869 266.018,375.869 266.018,372.907 263.552,372.907 \n",
       "  \"/>\n",
       "<polygon clip-path=\"url(#clip3902)\" points=\"\n",
       "267.262,373.031 267.262,375.869 269.728,375.869 269.728,373.031 267.262,373.031 267.262,373.031 \n",
       "  \" fill=\"#009af9\" fill-opacity=\"1\"/>\n",
       "<polyline clip-path=\"url(#clip3902)\" style=\"stroke:#000000; stroke-width:1; stroke-opacity:1; fill:none\" points=\"\n",
       "  267.262,373.031 267.262,375.869 269.728,375.869 269.728,373.031 267.262,373.031 \n",
       "  \"/>\n",
       "<polygon clip-path=\"url(#clip3902)\" points=\"\n",
       "270.854,373.833 270.854,375.869 273.32,375.869 273.32,373.833 270.854,373.833 270.854,373.833 \n",
       "  \" fill=\"#009af9\" fill-opacity=\"1\"/>\n",
       "<polyline clip-path=\"url(#clip3902)\" style=\"stroke:#000000; stroke-width:1; stroke-opacity:1; fill:none\" points=\"\n",
       "  270.854,373.833 270.854,375.869 273.32,375.869 273.32,373.833 270.854,373.833 \n",
       "  \"/>\n",
       "<polygon clip-path=\"url(#clip3902)\" points=\"\n",
       "274.33,373.216 274.33,375.869 276.796,375.869 276.796,373.216 274.33,373.216 274.33,373.216 \n",
       "  \" fill=\"#009af9\" fill-opacity=\"1\"/>\n",
       "<polyline clip-path=\"url(#clip3902)\" style=\"stroke:#000000; stroke-width:1; stroke-opacity:1; fill:none\" points=\"\n",
       "  274.33,373.216 274.33,375.869 276.796,375.869 276.796,373.216 274.33,373.216 \n",
       "  \"/>\n",
       "<polygon clip-path=\"url(#clip3902)\" points=\"\n",
       "277.826,374.018 277.826,375.869 280.292,375.869 280.292,374.018 277.826,374.018 277.826,374.018 \n",
       "  \" fill=\"#009af9\" fill-opacity=\"1\"/>\n",
       "<polyline clip-path=\"url(#clip3902)\" style=\"stroke:#000000; stroke-width:1; stroke-opacity:1; fill:none\" points=\"\n",
       "  277.826,374.018 277.826,375.869 280.292,375.869 280.292,374.018 277.826,374.018 \n",
       "  \"/>\n",
       "<polygon clip-path=\"url(#clip3902)\" points=\"\n",
       "281.158,373.956 281.158,375.869 283.624,375.869 283.624,373.956 281.158,373.956 281.158,373.956 \n",
       "  \" fill=\"#009af9\" fill-opacity=\"1\"/>\n",
       "<polyline clip-path=\"url(#clip3902)\" style=\"stroke:#000000; stroke-width:1; stroke-opacity:1; fill:none\" points=\"\n",
       "  281.158,373.956 281.158,375.869 283.624,375.869 283.624,373.956 281.158,373.956 \n",
       "  \"/>\n",
       "<polygon clip-path=\"url(#clip3902)\" points=\"\n",
       "285.334,373.401 285.334,375.869 287.8,375.869 287.8,373.401 285.334,373.401 285.334,373.401 \n",
       "  \" fill=\"#009af9\" fill-opacity=\"1\"/>\n",
       "<polyline clip-path=\"url(#clip3902)\" style=\"stroke:#000000; stroke-width:1; stroke-opacity:1; fill:none\" points=\"\n",
       "  285.334,373.401 285.334,375.869 287.8,375.869 287.8,373.401 285.334,373.401 \n",
       "  \"/>\n",
       "<polygon clip-path=\"url(#clip3902)\" points=\"\n",
       "289.633,373.894 289.633,375.869 292.099,375.869 292.099,373.894 289.633,373.894 289.633,373.894 \n",
       "  \" fill=\"#009af9\" fill-opacity=\"1\"/>\n",
       "<polyline clip-path=\"url(#clip3902)\" style=\"stroke:#000000; stroke-width:1; stroke-opacity:1; fill:none\" points=\"\n",
       "  289.633,373.894 289.633,375.869 292.099,375.869 292.099,373.894 289.633,373.894 \n",
       "  \"/>\n",
       "<polygon clip-path=\"url(#clip3902)\" points=\"\n",
       "293.806,374.141 293.806,375.869 296.272,375.869 296.272,374.141 293.806,374.141 293.806,374.141 \n",
       "  \" fill=\"#009af9\" fill-opacity=\"1\"/>\n",
       "<polyline clip-path=\"url(#clip3902)\" style=\"stroke:#000000; stroke-width:1; stroke-opacity:1; fill:none\" points=\"\n",
       "  293.806,374.141 293.806,375.869 296.272,375.869 296.272,374.141 293.806,374.141 \n",
       "  \"/>\n",
       "<polygon clip-path=\"url(#clip3902)\" points=\"\n",
       "299.474,374.264 299.474,375.869 301.94,375.869 301.94,374.264 299.474,374.264 299.474,374.264 \n",
       "  \" fill=\"#009af9\" fill-opacity=\"1\"/>\n",
       "<polyline clip-path=\"url(#clip3902)\" style=\"stroke:#000000; stroke-width:1; stroke-opacity:1; fill:none\" points=\"\n",
       "  299.474,374.264 299.474,375.869 301.94,375.869 301.94,374.264 299.474,374.264 \n",
       "  \"/>\n",
       "<polygon clip-path=\"url(#clip3902)\" points=\"\n",
       "304.667,374.018 304.667,375.869 307.133,375.869 307.133,374.018 304.667,374.018 304.667,374.018 \n",
       "  \" fill=\"#009af9\" fill-opacity=\"1\"/>\n",
       "<polyline clip-path=\"url(#clip3902)\" style=\"stroke:#000000; stroke-width:1; stroke-opacity:1; fill:none\" points=\"\n",
       "  304.667,374.018 304.667,375.869 307.133,375.869 307.133,374.018 304.667,374.018 \n",
       "  \"/>\n",
       "<polygon clip-path=\"url(#clip3902)\" points=\"\n",
       "309.396,374.542 309.396,375.869 311.862,375.869 311.862,374.542 309.396,374.542 309.396,374.542 \n",
       "  \" fill=\"#009af9\" fill-opacity=\"1\"/>\n",
       "<polyline clip-path=\"url(#clip3902)\" style=\"stroke:#000000; stroke-width:1; stroke-opacity:1; fill:none\" points=\"\n",
       "  309.396,374.542 309.396,375.869 311.862,375.869 311.862,374.542 309.396,374.542 \n",
       "  \"/>\n",
       "<polygon clip-path=\"url(#clip3902)\" points=\"\n",
       "313.573,374.511 313.573,375.869 316.039,375.869 316.039,374.511 313.573,374.511 313.573,374.511 \n",
       "  \" fill=\"#009af9\" fill-opacity=\"1\"/>\n",
       "<polyline clip-path=\"url(#clip3902)\" style=\"stroke:#000000; stroke-width:1; stroke-opacity:1; fill:none\" points=\"\n",
       "  313.573,374.511 313.573,375.869 316.039,375.869 316.039,374.511 313.573,374.511 \n",
       "  \"/>\n",
       "<polygon clip-path=\"url(#clip3902)\" points=\"\n",
       "317.796,375.036 317.796,375.869 320.261,375.869 320.261,375.036 317.796,375.036 317.796,375.036 \n",
       "  \" fill=\"#009af9\" fill-opacity=\"1\"/>\n",
       "<polyline clip-path=\"url(#clip3902)\" style=\"stroke:#000000; stroke-width:1; stroke-opacity:1; fill:none\" points=\"\n",
       "  317.796,375.036 317.796,375.869 320.261,375.869 320.261,375.036 317.796,375.036 \n",
       "  \"/>\n",
       "<polygon clip-path=\"url(#clip3902)\" points=\"\n",
       "321.358,375.406 321.358,375.869 323.824,375.869 323.824,375.406 321.358,375.406 321.358,375.406 \n",
       "  \" fill=\"#009af9\" fill-opacity=\"1\"/>\n",
       "<polyline clip-path=\"url(#clip3902)\" style=\"stroke:#000000; stroke-width:1; stroke-opacity:1; fill:none\" points=\"\n",
       "  321.358,375.406 321.358,375.869 323.824,375.869 323.824,375.406 321.358,375.406 \n",
       "  \"/>\n",
       "<polygon clip-path=\"url(#clip3902)\" points=\"\n",
       "325.425,374.727 325.425,375.869 327.891,375.869 327.891,374.727 325.425,374.727 325.425,374.727 \n",
       "  \" fill=\"#009af9\" fill-opacity=\"1\"/>\n",
       "<polyline clip-path=\"url(#clip3902)\" style=\"stroke:#000000; stroke-width:1; stroke-opacity:1; fill:none\" points=\"\n",
       "  325.425,374.727 325.425,375.869 327.891,375.869 327.891,374.727 325.425,374.727 \n",
       "  \"/>\n",
       "<polygon clip-path=\"url(#clip3902)\" points=\"\n",
       "330.855,375.067 330.855,375.869 333.32,375.869 333.32,375.067 330.855,375.067 330.855,375.067 \n",
       "  \" fill=\"#009af9\" fill-opacity=\"1\"/>\n",
       "<polyline clip-path=\"url(#clip3902)\" style=\"stroke:#000000; stroke-width:1; stroke-opacity:1; fill:none\" points=\"\n",
       "  330.855,375.067 330.855,375.869 333.32,375.869 333.32,375.067 330.855,375.067 \n",
       "  \"/>\n",
       "<polygon clip-path=\"url(#clip3902)\" points=\"\n",
       "335.324,375.097 335.324,375.869 337.789,375.869 337.789,375.097 335.324,375.097 335.324,375.097 \n",
       "  \" fill=\"#009af9\" fill-opacity=\"1\"/>\n",
       "<polyline clip-path=\"url(#clip3902)\" style=\"stroke:#000000; stroke-width:1; stroke-opacity:1; fill:none\" points=\"\n",
       "  335.324,375.097 335.324,375.869 337.789,375.869 337.789,375.097 335.324,375.097 \n",
       "  \"/>\n",
       "<polygon clip-path=\"url(#clip3902)\" points=\"\n",
       "340.249,375.252 340.249,375.869 342.715,375.869 342.715,375.252 340.249,375.252 340.249,375.252 \n",
       "  \" fill=\"#009af9\" fill-opacity=\"1\"/>\n",
       "<polyline clip-path=\"url(#clip3902)\" style=\"stroke:#000000; stroke-width:1; stroke-opacity:1; fill:none\" points=\"\n",
       "  340.249,375.252 340.249,375.869 342.715,375.869 342.715,375.252 340.249,375.252 \n",
       "  \"/>\n",
       "<polygon clip-path=\"url(#clip3902)\" points=\"\n",
       "344.707,375.036 344.707,375.869 347.173,375.869 347.173,375.036 344.707,375.036 344.707,375.036 \n",
       "  \" fill=\"#009af9\" fill-opacity=\"1\"/>\n",
       "<polyline clip-path=\"url(#clip3902)\" style=\"stroke:#000000; stroke-width:1; stroke-opacity:1; fill:none\" points=\"\n",
       "  344.707,375.036 344.707,375.869 347.173,375.869 347.173,375.036 344.707,375.036 \n",
       "  \"/>\n",
       "<polygon clip-path=\"url(#clip3902)\" points=\"\n",
       "350.327,374.881 350.327,375.869 352.793,375.869 352.793,374.881 350.327,374.881 350.327,374.881 \n",
       "  \" fill=\"#009af9\" fill-opacity=\"1\"/>\n",
       "<polyline clip-path=\"url(#clip3902)\" style=\"stroke:#000000; stroke-width:1; stroke-opacity:1; fill:none\" points=\"\n",
       "  350.327,374.881 350.327,375.869 352.793,375.869 352.793,374.881 350.327,374.881 \n",
       "  \"/>\n",
       "<polygon clip-path=\"url(#clip3902)\" points=\"\n",
       "356.011,375.252 356.011,375.869 358.477,375.869 358.477,375.252 356.011,375.252 356.011,375.252 \n",
       "  \" fill=\"#009af9\" fill-opacity=\"1\"/>\n",
       "<polyline clip-path=\"url(#clip3902)\" style=\"stroke:#000000; stroke-width:1; stroke-opacity:1; fill:none\" points=\"\n",
       "  356.011,375.252 356.011,375.869 358.477,375.869 358.477,375.252 356.011,375.252 \n",
       "  \"/>\n",
       "<polygon clip-path=\"url(#clip3902)\" points=\"\n",
       "360.354,375.313 360.354,375.869 362.819,375.869 362.819,375.313 360.354,375.313 360.354,375.313 \n",
       "  \" fill=\"#009af9\" fill-opacity=\"1\"/>\n",
       "<polyline clip-path=\"url(#clip3902)\" style=\"stroke:#000000; stroke-width:1; stroke-opacity:1; fill:none\" points=\"\n",
       "  360.354,375.313 360.354,375.869 362.819,375.869 362.819,375.313 360.354,375.313 \n",
       "  \"/>\n",
       "<polygon clip-path=\"url(#clip3902)\" points=\"\n",
       "366.3,375.375 366.3,375.869 368.766,375.869 368.766,375.375 366.3,375.375 366.3,375.375 \n",
       "  \" fill=\"#009af9\" fill-opacity=\"1\"/>\n",
       "<polyline clip-path=\"url(#clip3902)\" style=\"stroke:#000000; stroke-width:1; stroke-opacity:1; fill:none\" points=\"\n",
       "  366.3,375.375 366.3,375.869 368.766,375.869 368.766,375.375 366.3,375.375 \n",
       "  \"/>\n",
       "<polygon clip-path=\"url(#clip3902)\" points=\"\n",
       "373.169,375.344 373.169,375.869 375.635,375.869 375.635,375.344 373.169,375.344 373.169,375.344 \n",
       "  \" fill=\"#009af9\" fill-opacity=\"1\"/>\n",
       "<polyline clip-path=\"url(#clip3902)\" style=\"stroke:#000000; stroke-width:1; stroke-opacity:1; fill:none\" points=\"\n",
       "  373.169,375.344 373.169,375.869 375.635,375.869 375.635,375.344 373.169,375.344 \n",
       "  \"/>\n",
       "<polygon clip-path=\"url(#clip3902)\" points=\"\n",
       "378.821,375.468 378.821,375.869 381.286,375.869 381.286,375.468 378.821,375.468 378.821,375.468 \n",
       "  \" fill=\"#009af9\" fill-opacity=\"1\"/>\n",
       "<polyline clip-path=\"url(#clip3902)\" style=\"stroke:#000000; stroke-width:1; stroke-opacity:1; fill:none\" points=\"\n",
       "  378.821,375.468 378.821,375.869 381.286,375.869 381.286,375.468 378.821,375.468 \n",
       "  \"/>\n",
       "<polygon clip-path=\"url(#clip3902)\" points=\"\n",
       "384.136,375.344 384.136,375.869 386.602,375.869 386.602,375.344 384.136,375.344 384.136,375.344 \n",
       "  \" fill=\"#009af9\" fill-opacity=\"1\"/>\n",
       "<polyline clip-path=\"url(#clip3902)\" style=\"stroke:#000000; stroke-width:1; stroke-opacity:1; fill:none\" points=\"\n",
       "  384.136,375.344 384.136,375.869 386.602,375.869 386.602,375.344 384.136,375.344 \n",
       "  \"/>\n",
       "<polygon clip-path=\"url(#clip3902)\" points=\"\n",
       "389.878,375.529 389.878,375.869 392.344,375.869 392.344,375.529 389.878,375.529 389.878,375.529 \n",
       "  \" fill=\"#009af9\" fill-opacity=\"1\"/>\n",
       "<polyline clip-path=\"url(#clip3902)\" style=\"stroke:#000000; stroke-width:1; stroke-opacity:1; fill:none\" points=\"\n",
       "  389.878,375.529 389.878,375.869 392.344,375.869 392.344,375.529 389.878,375.529 \n",
       "  \"/>\n",
       "<polygon clip-path=\"url(#clip3902)\" points=\"\n",
       "394.952,375.653 394.952,375.869 397.417,375.869 397.417,375.653 394.952,375.653 394.952,375.653 \n",
       "  \" fill=\"#009af9\" fill-opacity=\"1\"/>\n",
       "<polyline clip-path=\"url(#clip3902)\" style=\"stroke:#000000; stroke-width:1; stroke-opacity:1; fill:none\" points=\"\n",
       "  394.952,375.653 394.952,375.869 397.417,375.869 397.417,375.653 394.952,375.653 \n",
       "  \"/>\n",
       "<polygon clip-path=\"url(#clip3902)\" points=\"\n",
       "398.844,375.622 398.844,375.869 401.31,375.869 401.31,375.622 398.844,375.622 398.844,375.622 \n",
       "  \" fill=\"#009af9\" fill-opacity=\"1\"/>\n",
       "<polyline clip-path=\"url(#clip3902)\" style=\"stroke:#000000; stroke-width:1; stroke-opacity:1; fill:none\" points=\"\n",
       "  398.844,375.622 398.844,375.869 401.31,375.869 401.31,375.622 398.844,375.622 \n",
       "  \"/>\n",
       "<polygon clip-path=\"url(#clip3902)\" points=\"\n",
       "404.254,375.776 404.254,375.869 406.72,375.869 406.72,375.776 404.254,375.776 404.254,375.776 \n",
       "  \" fill=\"#009af9\" fill-opacity=\"1\"/>\n",
       "<polyline clip-path=\"url(#clip3902)\" style=\"stroke:#000000; stroke-width:1; stroke-opacity:1; fill:none\" points=\"\n",
       "  404.254,375.776 404.254,375.869 406.72,375.869 406.72,375.776 404.254,375.776 \n",
       "  \"/>\n",
       "<polygon clip-path=\"url(#clip3902)\" points=\"\n",
       "409.577,375.653 409.577,375.869 412.043,375.869 412.043,375.653 409.577,375.653 409.577,375.653 \n",
       "  \" fill=\"#009af9\" fill-opacity=\"1\"/>\n",
       "<polyline clip-path=\"url(#clip3902)\" style=\"stroke:#000000; stroke-width:1; stroke-opacity:1; fill:none\" points=\"\n",
       "  409.577,375.653 409.577,375.869 412.043,375.869 412.043,375.653 409.577,375.653 \n",
       "  \"/>\n",
       "<polygon clip-path=\"url(#clip3902)\" points=\"\n",
       "415.361,375.653 415.361,375.869 417.826,375.869 417.826,375.653 415.361,375.653 415.361,375.653 \n",
       "  \" fill=\"#009af9\" fill-opacity=\"1\"/>\n",
       "<polyline clip-path=\"url(#clip3902)\" style=\"stroke:#000000; stroke-width:1; stroke-opacity:1; fill:none\" points=\"\n",
       "  415.361,375.653 415.361,375.869 417.826,375.869 417.826,375.653 415.361,375.653 \n",
       "  \"/>\n",
       "<polygon clip-path=\"url(#clip3902)\" points=\"\n",
       "418.711,375.838 418.711,375.869 421.177,375.869 421.177,375.838 418.711,375.838 418.711,375.838 \n",
       "  \" fill=\"#009af9\" fill-opacity=\"1\"/>\n",
       "<polyline clip-path=\"url(#clip3902)\" style=\"stroke:#000000; stroke-width:1; stroke-opacity:1; fill:none\" points=\"\n",
       "  418.711,375.838 418.711,375.869 421.177,375.869 421.177,375.838 418.711,375.838 \n",
       "  \"/>\n",
       "<polygon clip-path=\"url(#clip3902)\" points=\"\n",
       "424.338,375.776 424.338,375.869 426.803,375.869 426.803,375.776 424.338,375.776 424.338,375.776 \n",
       "  \" fill=\"#009af9\" fill-opacity=\"1\"/>\n",
       "<polyline clip-path=\"url(#clip3902)\" style=\"stroke:#000000; stroke-width:1; stroke-opacity:1; fill:none\" points=\"\n",
       "  424.338,375.776 424.338,375.869 426.803,375.869 426.803,375.776 424.338,375.776 \n",
       "  \"/>\n",
       "<polygon clip-path=\"url(#clip3902)\" points=\"\n",
       "430.909,375.653 430.909,375.869 433.375,375.869 433.375,375.653 430.909,375.653 430.909,375.653 \n",
       "  \" fill=\"#009af9\" fill-opacity=\"1\"/>\n",
       "<polyline clip-path=\"url(#clip3902)\" style=\"stroke:#000000; stroke-width:1; stroke-opacity:1; fill:none\" points=\"\n",
       "  430.909,375.653 430.909,375.869 433.375,375.869 433.375,375.653 430.909,375.653 \n",
       "  \"/>\n",
       "<polygon clip-path=\"url(#clip3902)\" points=\"\n",
       "436.318,375.838 436.318,375.869 438.784,375.869 438.784,375.838 436.318,375.838 436.318,375.838 \n",
       "  \" fill=\"#009af9\" fill-opacity=\"1\"/>\n",
       "<polyline clip-path=\"url(#clip3902)\" style=\"stroke:#000000; stroke-width:1; stroke-opacity:1; fill:none\" points=\"\n",
       "  436.318,375.838 436.318,375.869 438.784,375.869 438.784,375.838 436.318,375.838 \n",
       "  \"/>\n",
       "<polygon clip-path=\"url(#clip3902)\" points=\"\n",
       "444.888,375.807 444.888,375.869 447.354,375.869 447.354,375.807 444.888,375.807 444.888,375.807 \n",
       "  \" fill=\"#009af9\" fill-opacity=\"1\"/>\n",
       "<polyline clip-path=\"url(#clip3902)\" style=\"stroke:#000000; stroke-width:1; stroke-opacity:1; fill:none\" points=\"\n",
       "  444.888,375.807 444.888,375.869 447.354,375.869 447.354,375.807 444.888,375.807 \n",
       "  \"/>\n",
       "<polygon clip-path=\"url(#clip3902)\" points=\"\n",
       "451.48,375.807 451.48,375.869 453.945,375.869 453.945,375.807 451.48,375.807 451.48,375.807 \n",
       "  \" fill=\"#009af9\" fill-opacity=\"1\"/>\n",
       "<polyline clip-path=\"url(#clip3902)\" style=\"stroke:#000000; stroke-width:1; stroke-opacity:1; fill:none\" points=\"\n",
       "  451.48,375.807 451.48,375.869 453.945,375.869 453.945,375.807 451.48,375.807 \n",
       "  \"/>\n",
       "<polygon clip-path=\"url(#clip3902)\" points=\"\n",
       "455.135,375.745 455.135,375.869 457.601,375.869 457.601,375.745 455.135,375.745 455.135,375.745 \n",
       "  \" fill=\"#009af9\" fill-opacity=\"1\"/>\n",
       "<polyline clip-path=\"url(#clip3902)\" style=\"stroke:#000000; stroke-width:1; stroke-opacity:1; fill:none\" points=\"\n",
       "  455.135,375.745 455.135,375.869 457.601,375.869 457.601,375.745 455.135,375.745 \n",
       "  \"/>\n",
       "<polygon clip-path=\"url(#clip3902)\" points=\"\n",
       "462.967,375.838 462.967,375.869 465.433,375.869 465.433,375.838 462.967,375.838 462.967,375.838 \n",
       "  \" fill=\"#009af9\" fill-opacity=\"1\"/>\n",
       "<polyline clip-path=\"url(#clip3902)\" style=\"stroke:#000000; stroke-width:1; stroke-opacity:1; fill:none\" points=\"\n",
       "  462.967,375.838 462.967,375.869 465.433,375.869 465.433,375.838 462.967,375.838 \n",
       "  \"/>\n",
       "<polygon clip-path=\"url(#clip3902)\" points=\"\n",
       "469.03,375.807 469.03,375.869 471.496,375.869 471.496,375.807 469.03,375.807 469.03,375.807 \n",
       "  \" fill=\"#009af9\" fill-opacity=\"1\"/>\n",
       "<polyline clip-path=\"url(#clip3902)\" style=\"stroke:#000000; stroke-width:1; stroke-opacity:1; fill:none\" points=\"\n",
       "  469.03,375.807 469.03,375.869 471.496,375.869 471.496,375.807 469.03,375.807 \n",
       "  \"/>\n",
       "<polygon clip-path=\"url(#clip3902)\" points=\"\n",
       "476.452,375.807 476.452,375.869 478.918,375.869 478.918,375.807 476.452,375.807 476.452,375.807 \n",
       "  \" fill=\"#009af9\" fill-opacity=\"1\"/>\n",
       "<polyline clip-path=\"url(#clip3902)\" style=\"stroke:#000000; stroke-width:1; stroke-opacity:1; fill:none\" points=\"\n",
       "  476.452,375.807 476.452,375.869 478.918,375.869 478.918,375.807 476.452,375.807 \n",
       "  \"/>\n",
       "<polygon clip-path=\"url(#clip3902)\" points=\"\n",
       "492.322,375.838 492.322,375.869 494.787,375.869 494.787,375.838 492.322,375.838 492.322,375.838 \n",
       "  \" fill=\"#009af9\" fill-opacity=\"1\"/>\n",
       "<polyline clip-path=\"url(#clip3902)\" style=\"stroke:#000000; stroke-width:1; stroke-opacity:1; fill:none\" points=\"\n",
       "  492.322,375.838 492.322,375.869 494.787,375.869 494.787,375.838 492.322,375.838 \n",
       "  \"/>\n",
       "<polygon clip-path=\"url(#clip3902)\" points=\"\n",
       "502.788,375.838 502.788,375.869 505.254,375.869 505.254,375.838 502.788,375.838 502.788,375.838 \n",
       "  \" fill=\"#009af9\" fill-opacity=\"1\"/>\n",
       "<polyline clip-path=\"url(#clip3902)\" style=\"stroke:#000000; stroke-width:1; stroke-opacity:1; fill:none\" points=\"\n",
       "  502.788,375.838 502.788,375.869 505.254,375.869 505.254,375.838 502.788,375.838 \n",
       "  \"/>\n",
       "<polygon clip-path=\"url(#clip3902)\" points=\"\n",
       "527.937,375.838 527.937,375.869 530.403,375.869 530.403,375.838 527.937,375.838 527.937,375.838 \n",
       "  \" fill=\"#009af9\" fill-opacity=\"1\"/>\n",
       "<polyline clip-path=\"url(#clip3902)\" style=\"stroke:#000000; stroke-width:1; stroke-opacity:1; fill:none\" points=\"\n",
       "  527.937,375.838 527.937,375.869 530.403,375.869 530.403,375.838 527.937,375.838 \n",
       "  \"/>\n",
       "<polygon clip-path=\"url(#clip3902)\" points=\"\n",
       "562.818,375.838 562.818,375.869 565.283,375.869 565.283,375.838 562.818,375.838 562.818,375.838 \n",
       "  \" fill=\"#009af9\" fill-opacity=\"1\"/>\n",
       "<polyline clip-path=\"url(#clip3902)\" style=\"stroke:#000000; stroke-width:1; stroke-opacity:1; fill:none\" points=\"\n",
       "  562.818,375.838 562.818,375.869 565.283,375.869 565.283,375.838 562.818,375.838 \n",
       "  \"/>\n",
       "<polygon clip-path=\"url(#clip3900)\" points=\"\n",
       "489.608,62.931 562.315,62.931 562.315,32.691 489.608,32.691 \n",
       "  \" fill=\"#ffffff\" fill-opacity=\"1\"/>\n",
       "<polyline clip-path=\"url(#clip3900)\" style=\"stroke:#000000; stroke-width:1; stroke-opacity:1; fill:none\" points=\"\n",
       "  489.608,62.931 562.315,62.931 562.315,32.691 489.608,32.691 489.608,62.931 \n",
       "  \"/>\n",
       "<polygon clip-path=\"url(#clip3900)\" points=\"\n",
       "495.608,53.859 531.608,53.859 531.608,41.763 495.608,41.763 495.608,53.859 \n",
       "  \" fill=\"#009af9\" fill-opacity=\"1\"/>\n",
       "<polyline clip-path=\"url(#clip3900)\" style=\"stroke:#000000; stroke-width:1; stroke-opacity:1; fill:none\" points=\"\n",
       "  495.608,53.859 531.608,53.859 531.608,41.763 495.608,41.763 495.608,53.859 \n",
       "  \"/>\n",
       "<g clip-path=\"url(#clip3900)\">\n",
       "<text style=\"fill:#000000; fill-opacity:1; font-family:Arial,Helvetica Neue,Helvetica,sans-serif; font-size:12; text-anchor:start;\" transform=\"rotate(0, 537.608, 52.311)\" x=\"537.608\" y=\"52.311\">y1</text>\n",
       "</g>\n",
       "</svg>\n"
      ]
     },
     "execution_count": 16,
     "metadata": {},
     "output_type": "execute_result"
    }
   ],
   "source": [
    "plot(o)"
   ]
  },
  {
   "cell_type": "code",
   "execution_count": 17,
   "metadata": {},
   "outputs": [
    {
     "data": {
      "text/plain": [
       "▦ Series{1}  |  EqualWeight  |  nobs = 100\n",
       "├── CovMatrix([0.884584 -0.022559; -0.022559 1.15419])\n",
       "└── MV{Mean}(-0.1800578291265422, 0.1723698938664877)"
      ]
     },
     "execution_count": 17,
     "metadata": {},
     "output_type": "execute_result"
    }
   ],
   "source": [
    "Series(randn(100, 2), CovMatrix(2), MV(2, Mean()))"
   ]
  },
  {
   "cell_type": "code",
   "execution_count": 18,
   "metadata": {},
   "outputs": [
    {
     "data": {
      "text/plain": [
       "▦ Series{(1, 0)}  |  EqualWeight  |  nobs = 100\n",
       "└── LinReg: β(0.0) = [-0.01501 -0.321151 -0.0104224]"
      ]
     },
     "execution_count": 18,
     "metadata": {},
     "output_type": "execute_result"
    }
   ],
   "source": [
    "Series((randn(100, 3), randn(100)), LinReg(3))"
   ]
  },
  {
   "cell_type": "code",
   "execution_count": 19,
   "metadata": {},
   "outputs": [
    {
     "data": {
      "text/plain": [
       "▦ Series{0}  |  EqualWeight  |  nobs = 3000\n",
       "├── Mean(-0.0356107)\n",
       "└── Variance(0.958927)"
      ]
     },
     "execution_count": 19,
     "metadata": {},
     "output_type": "execute_result"
    }
   ],
   "source": [
    "s1 = Series(Mean(), Variance())\n",
    "s2 = Series(Mean(), Variance())\n",
    "s3 = Series(Mean(), Variance())\n",
    "\n",
    "fit!(s1, randn(1000))\n",
    "fit!(s2, randn(1000))\n",
    "fit!(s3, randn(1000))\n",
    "\n",
    "merge!(s1, s2)\n",
    "merge!(s1, s3)"
   ]
  },
  {
   "cell_type": "markdown",
   "metadata": {},
   "source": [
    "The above idiom is important for fitting data in parallel"
   ]
  },
  {
   "cell_type": "code",
   "execution_count": 22,
   "metadata": {},
   "outputs": [
    {
     "data": {
      "text/plain": [
       "(-0.03561065214361064, 0.9589270474042937)"
      ]
     },
     "execution_count": 22,
     "metadata": {},
     "output_type": "execute_result"
    }
   ],
   "source": [
    "value(s1)"
   ]
  },
  {
   "cell_type": "markdown",
   "metadata": {},
   "source": [
    "## Creating and manipulating `Series`"
   ]
  },
  {
   "cell_type": "code",
   "execution_count": 24,
   "metadata": {},
   "outputs": [
    {
     "data": {
      "text/plain": [
       "▦ Series{0}  |  EqualWeight  |  nobs = 0\n",
       "├── Mean(0.0)\n",
       "└── Variance(0.0)"
      ]
     },
     "execution_count": 24,
     "metadata": {},
     "output_type": "execute_result"
    }
   ],
   "source": [
    "# Empty Constructors\n",
    "# 1. without weights or data\n",
    "Series(Mean(), Variance())"
   ]
  },
  {
   "cell_type": "code",
   "execution_count": 25,
   "metadata": {},
   "outputs": [
    {
     "data": {
      "text/plain": [
       "▦ Series{0}  |  ExponentialWeight(λ = 0.1)  |  nobs = 0\n",
       "├── Mean(0.0)\n",
       "└── Variance(0.0)"
      ]
     },
     "execution_count": 25,
     "metadata": {},
     "output_type": "execute_result"
    }
   ],
   "source": [
    "# 2. With weights\n",
    "Series(ExponentialWeight(), Mean(), Variance())"
   ]
  },
  {
   "cell_type": "code",
   "execution_count": 26,
   "metadata": {},
   "outputs": [
    {
     "data": {
      "text/plain": [
       "▦ Series{0}  |  EqualWeight  |  nobs = 1000\n",
       "├── Mean(0.030042)\n",
       "└── Variance(0.939223)"
      ]
     },
     "execution_count": 26,
     "metadata": {},
     "output_type": "execute_result"
    }
   ],
   "source": [
    "# 3. With data\n",
    "y = randn(1000)\n",
    "Series(y, Mean(), Variance())"
   ]
  },
  {
   "cell_type": "code",
   "execution_count": 27,
   "metadata": {},
   "outputs": [
    {
     "data": {
      "text/plain": [
       "▦ Series{0}  |  ExponentialWeight(λ = 0.01)  |  nobs = 1000\n",
       "├── Mean(0.00675263)\n",
       "└── Variance(0.984135)"
      ]
     },
     "execution_count": 27,
     "metadata": {},
     "output_type": "execute_result"
    }
   ],
   "source": [
    "# 4. With data and weights\n",
    "Series(y, ExponentialWeight(0.01), Mean(), Variance())"
   ]
  },
  {
   "cell_type": "code",
   "execution_count": 28,
   "metadata": {},
   "outputs": [
    {
     "data": {
      "text/plain": [
       "▦ Series{0}  |  ExponentialWeight(λ = 0.01)  |  nobs = 1000\n",
       "├── Mean(0.00675263)\n",
       "└── Variance(0.984135)"
      ]
     },
     "execution_count": 28,
     "metadata": {},
     "output_type": "execute_result"
    }
   ],
   "source": [
    "Series(ExponentialWeight(0.01), y, Mean(), Variance())"
   ]
  },
  {
   "cell_type": "markdown",
   "metadata": {},
   "source": [
    "## Updating `Series`"
   ]
  },
  {
   "cell_type": "code",
   "execution_count": 29,
   "metadata": {},
   "outputs": [
    {
     "data": {
      "text/plain": [
       "▦ Series{0}  |  EqualWeight  |  nobs = 1\n",
       "└── Mean(0.69289)"
      ]
     },
     "execution_count": 29,
     "metadata": {},
     "output_type": "execute_result"
    }
   ],
   "source": [
    "# Updating wwith single observation\n",
    "\n",
    "s = Series(Mean())\n",
    "fit!(s, randn())"
   ]
  },
  {
   "cell_type": "code",
   "execution_count": 32,
   "metadata": {},
   "outputs": [
    {
     "data": {
      "text/plain": [
       "▦ Series{1}  |  EqualWeight  |  nobs = 100\n",
       "└── CovMatrix([1.1572 0.251604 0.160193 0.223771; 0.251604 0.971596 0.0769237 0.150906; 0.160193 0.0769237 1.07164 0.0529836; 0.223771 0.150906 0.0529836 1.19701])"
      ]
     },
     "execution_count": 32,
     "metadata": {},
     "output_type": "execute_result"
    }
   ],
   "source": [
    "s = Series(CovMatrix(4))\n",
    "fit!(s, randn(100, 4)) # by default observations are assumed to be stored in rows"
   ]
  },
  {
   "cell_type": "code",
   "execution_count": 33,
   "metadata": {},
   "outputs": [
    {
     "data": {
      "text/plain": [
       "▦ Series{0}  |  EqualWeight  |  nobs = 100\n",
       "├── Mean(-0.12993)\n",
       "└── Variance(1.09701)"
      ]
     },
     "execution_count": 33,
     "metadata": {},
     "output_type": "execute_result"
    }
   ],
   "source": [
    "# Series tracking the same stats can be merged\n",
    "\n",
    "y1 = randn(100)\n",
    "y2 = randn(100)\n",
    "\n",
    "s1 = Series(y1, Mean(), Variance())\n",
    "s2 = Series(y2, Mean(), Variance())"
   ]
  },
  {
   "cell_type": "code",
   "execution_count": 34,
   "metadata": {},
   "outputs": [
    {
     "data": {
      "text/plain": [
       "▦ Series{0}  |  EqualWeight  |  nobs = 200\n",
       "├── Mean(-0.0863707)\n",
       "└── Variance(1.13086)"
      ]
     },
     "execution_count": 34,
     "metadata": {},
     "output_type": "execute_result"
    }
   ],
   "source": [
    "merge!(s1, s2, :append) # treated as a new batch with equal weight"
   ]
  },
  {
   "cell_type": "code",
   "execution_count": 39,
   "metadata": {},
   "outputs": [
    {
     "name": "stdout",
     "output_type": "stream",
     "text": [
      "(-0.04281123900787702, 1.172300992525855)\n",
      "(-0.086370692611279, 1.1308631329459182)\n"
     ]
    }
   ],
   "source": [
    "# The above is the same as the sequence\n",
    "s1 = Series(Mean(), Variance()) # Initialize a empty series that tracks the mean and variance of the input data\n",
    "fit!(s1, y1); println(value(s1)) # fit the series to first batch of data\n",
    "fit!(s1, y2); println(value(s1)) # fit the series to second batch of data"
   ]
  },
  {
   "cell_type": "code",
   "execution_count": 41,
   "metadata": {},
   "outputs": [
    {
     "data": {
      "text/plain": [
       "▦ Series{0}  |  EqualWeight  |  nobs = 400\n",
       "├── Mean(-0.11904)\n",
       "└── Variance(1.09894)"
      ]
     },
     "execution_count": 41,
     "metadata": {},
     "output_type": "execute_result"
    }
   ],
   "source": [
    "merge!(s1, s2, 0.5) # ratio of influence s2 should have?"
   ]
  },
  {
   "cell_type": "markdown",
   "metadata": {},
   "source": [
    "## Weights\n",
    "\n",
    "The weight parameter for each series controls the influence wielded by the new observations in the incoming stream.\n",
    "\n",
    "A statistic, $\\theta^{(t)}$, updated by the $t^{th}$ observation, $x_t$ is governed by the weight attached to the new observation.\n",
    "\n",
    "$$\n",
    "\\theta^{(t)} = (1 - \\gamma_t)\\theta^{(t-1)} + \\gamma_tx_t\n",
    "$$"
   ]
  },
  {
   "cell_type": "code",
   "execution_count": 43,
   "metadata": {},
   "outputs": [
    {
     "data": {
      "text/plain": [
       "▦ Series{0}  |  EqualWeight  |  nobs = 100\n",
       "└── Variance(0.939794)"
      ]
     },
     "execution_count": 43,
     "metadata": {},
     "output_type": "execute_result"
    }
   ],
   "source": [
    "# Equal weight gives all observations equal weight\n",
    "\n",
    "Series(randn(100), EqualWeight(), Variance())"
   ]
  },
  {
   "cell_type": "code",
   "execution_count": 46,
   "metadata": {},
   "outputs": [
    {
     "data": {
      "text/plain": [
       "▦ Series{0}  |  ExponentialWeight(λ = 0.1)  |  nobs = 100\n",
       "└── Variance(0.767538)"
      ]
     },
     "execution_count": 46,
     "metadata": {},
     "output_type": "execute_result"
    }
   ],
   "source": [
    "# Exponential weighting gives the first observation a weight of 1 and the following observations are dependent\n",
    "# on the number of lookback observations: 2/(lookback + 1)\n",
    "\n",
    "Series(randn(100), ExponentialWeight(), Variance())"
   ]
  },
  {
   "cell_type": "code",
   "execution_count": 52,
   "metadata": {},
   "outputs": [
    {
     "data": {
      "text/plain": [
       "▦ Series{0}  |  LearningRate(r = 0.7)  |  nobs = 100\n",
       "└── Variance(1.16816)"
      ]
     },
     "execution_count": 52,
     "metadata": {},
     "output_type": "execute_result"
    }
   ],
   "source": [
    "# Learning rate weights can be used to slightly decrease the weight of every incoming observation\n",
    "Series(randn(100), LearningRate(0.7), Variance())"
   ]
  },
  {
   "cell_type": "markdown",
   "metadata": {},
   "source": [
    "For each statistic we can think of we can pack a `Series` object to cature the statistic"
   ]
  },
  {
   "cell_type": "code",
   "execution_count": 55,
   "metadata": {},
   "outputs": [
    {
     "data": {
      "text/plain": [
       "▦ Series{0}  |  EqualWeight  |  nobs = 100\n",
       "├── Mean(-0.0246202)\n",
       "├── Variance(0.953926)\n",
       "├── Extrema((-2.28313, 2.30418))\n",
       "├── Moments([-0.0246202, 0.944993, -0.0145104, 2.3138])\n",
       "└── Sum{Float64}(-2.46202)"
      ]
     },
     "execution_count": 55,
     "metadata": {},
     "output_type": "execute_result"
    }
   ],
   "source": [
    "s = Series(randn(100), Mean(), Variance(), Extrema(), Moments(), Sum())"
   ]
  },
  {
   "cell_type": "code",
   "execution_count": 56,
   "metadata": {},
   "outputs": [
    {
     "data": {
      "text/plain": [
       "(-0.02462020651311296, 0.9539259543376356, (-2.2831267616816913, 2.304183862731215), [-0.0246202, 0.944993, -0.0145104, 2.3138], -2.462020651311299)"
      ]
     },
     "execution_count": 56,
     "metadata": {},
     "output_type": "execute_result"
    }
   ],
   "source": [
    "value(s)"
   ]
  },
  {
   "cell_type": "code",
   "execution_count": 57,
   "metadata": {},
   "outputs": [
    {
     "data": {
      "text/plain": [
       "CovMatrix([0.0 0.0 … 0.0 0.0; 0.0 0.0 … 0.0 0.0; … ; 0.0 0.0 … 0.0 0.0; 0.0 0.0 … 0.0 0.0])"
      ]
     },
     "execution_count": 57,
     "metadata": {},
     "output_type": "execute_result"
    }
   ],
   "source": [
    "y = randn(100, 5)\n",
    "o = CovMatrix(5)"
   ]
  },
  {
   "cell_type": "code",
   "execution_count": 58,
   "metadata": {},
   "outputs": [
    {
     "data": {
      "text/plain": [
       "▦ Series{1}  |  EqualWeight  |  nobs = 100\n",
       "└── CovMatrix([0.927403 0.0124733 0.0244481 -0.00637656 0.0495987; 0.0124733 1.12675 -0.111914 -0.0929304 0.04205; 0.0244481 -0.111914 0.755048 -0.0374955 0.043437; -0.00637656 -0.0929304 -0.0374955 0.89885 0.251202; 0.0495987 0.04205 0.043437 0.251202 1.2909])"
      ]
     },
     "execution_count": 58,
     "metadata": {},
     "output_type": "execute_result"
    }
   ],
   "source": [
    "Series(y, o)"
   ]
  },
  {
   "cell_type": "code",
   "execution_count": null,
   "metadata": {
    "collapsed": true
   },
   "outputs": [],
   "source": []
  }
 ],
 "metadata": {
  "kernelspec": {
   "display_name": "Julia 0.6.2",
   "language": "julia",
   "name": "julia-0.6"
  },
  "language_info": {
   "file_extension": ".jl",
   "mimetype": "application/julia",
   "name": "julia",
   "version": "0.6.2"
  }
 },
 "nbformat": 4,
 "nbformat_minor": 2
}
